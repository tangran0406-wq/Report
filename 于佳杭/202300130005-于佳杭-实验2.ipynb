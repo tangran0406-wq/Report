{
 "cells": [
  {
   "cell_type": "code",
   "execution_count": 28,
   "metadata": {},
   "outputs": [
    {
     "name": "stdout",
     "output_type": "stream",
     "text": [
      "数据集加载成功！\n",
      "原始数据形状: (810, 13)\n"
     ]
    }
   ],
   "source": [
    "import pandas as pd\n",
    "import numpy as np\n",
    "file_path = r'D:\\Pokemon.csv'\n",
    "df = pd.read_csv(file_path, encoding='latin1')\n",
    "print(\"数据集加载成功！\")\n",
    "print(\"原始数据形状:\", df.shape)\n",
    "df_cleaned = df.copy()"
   ]
  },
  {
   "cell_type": "code",
   "execution_count": 29,
   "metadata": {},
   "outputs": [
    {
     "name": "stdout",
     "output_type": "stream",
     "text": [
      "处理前的数据形状: (810, 13)\n",
      "处理后的数据形状: (808, 13)\n",
      "\n",
      "成功删除最后两行数据。\n"
     ]
    }
   ],
   "source": [
    "# --- 问题一：删除最后两行 ---\n",
    "print(\"处理前的数据形状:\", df_cleaned.shape)\n",
    "\n",
    "# 使用 .index 获取最后两行的索引，然后使用 .drop() 删除\n",
    "# inplace=True 表示直接在原数据上修改\n",
    "rows_to_drop = df_cleaned.tail(2).index\n",
    "df_cleaned.drop(rows_to_drop, inplace=True)\n",
    "\n",
    "print(\"处理后的数据形状:\", df_cleaned.shape)\n",
    "print(\"\\n成功删除最后两行数据。\")"
   ]
  },
  {
   "cell_type": "code",
   "execution_count": 26,
   "metadata": {},
   "outputs": [
    {
     "name": "stdout",
     "output_type": "stream",
     "text": [
      "处理前 'Type 2' 的值分布情况:\n"
     ]
    },
    {
     "data": {
      "text/plain": [
       "Flying       97\n",
       "Ground       35\n",
       "Poison       34\n",
       "Psychic      33\n",
       "Fighting     26\n",
       "Grass        25\n",
       "Fairy        23\n",
       "Steel        22\n",
       "Dark         20\n",
       "Dragon       18\n",
       "Ice          14\n",
       "Water        14\n",
       "Rock         14\n",
       "Ghost        14\n",
       "Fire         12\n",
       "Electric      6\n",
       "Normal        4\n",
       "Bug           3\n",
       "A             1\n",
       "undefined     1\n",
       "273           1\n",
       "0             1\n",
       "BBB           1\n",
       "Name: Type 2, dtype: int64"
      ]
     },
     "metadata": {},
     "output_type": "display_data"
    },
    {
     "name": "stdout",
     "output_type": "stream",
     "text": [
      "处理前共有 383 个缺失值 (NaN)。\n",
      "\n",
      "----------------------------------\n",
      "处理后 'Type 2' 的值分布情况:\n"
     ]
    },
    {
     "data": {
      "text/plain": [
       "None         383\n",
       "Flying        97\n",
       "Ground        35\n",
       "Poison        34\n",
       "Psychic       33\n",
       "Fighting      26\n",
       "Grass         25\n",
       "Fairy         23\n",
       "Steel         22\n",
       "Dark          20\n",
       "Dragon        18\n",
       "Ice           14\n",
       "Water         14\n",
       "Rock          14\n",
       "Ghost         14\n",
       "Fire          12\n",
       "Electric       6\n",
       "Normal         4\n",
       "Bug            3\n",
       "A              1\n",
       "undefined      1\n",
       "273            1\n",
       "0              1\n",
       "BBB            1\n",
       "Name: Type 2, dtype: int64"
      ]
     },
     "metadata": {},
     "output_type": "display_data"
    },
    {
     "name": "stdout",
     "output_type": "stream",
     "text": [
      "处理后共有 0 个缺失值 (NaN)。\n",
      "\n",
      "成功将所有缺失的第二属性替换为 'None' 类别。\n"
     ]
    }
   ],
   "source": [
    "# --- 问题二：将 'Type 2' 列中的缺失值(NaN)替换为'None'\n",
    "print(\"处理前 'Type 2' 的值分布情况:\")\n",
    "# 使用 .value_counts() 可以查看每个类别出现的次数，NaN默认不显示\n",
    "display(df_cleaned['Type 2'].value_counts())\n",
    "nan_count_before = df_cleaned['Type 2'].isna().sum()\n",
    "print(f\"处理前共有 {nan_count_before} 个缺失值 (NaN)。\")\n",
    "\n",
    "df_cleaned['Type 2'].fillna('None', inplace=True)\n",
    "\n",
    "\n",
    "print(\"\\n----------------------------------\")\n",
    "print(\"处理后 'Type 2' 的值分布情况:\")\n",
    "# 再次查看值分布，现在 'None' 已经成为一个明确的类别\n",
    "display(df_cleaned['Type 2'].value_counts())\n",
    "nan_count_after = df_cleaned['Type 2'].isna().sum()\n",
    "print(f\"处理后共有 {nan_count_after} 个缺失值 (NaN)。\")\n",
    "print(\"\\n成功将所有缺失的第二属性替换为 'None' 类别。\")"
   ]
  },
  {
   "cell_type": "code",
   "execution_count": 30,
   "metadata": {},
   "outputs": [
    {
     "name": "stdout",
     "output_type": "stream",
     "text": [
      "处理前的数据形状: (808, 13)\n",
      "发现 6 条重复行。\n",
      "处理后的数据形状: (802, 13)\n",
      "\n",
      "成功删除所有重复行。\n"
     ]
    }
   ],
   "source": [
    "# --- 问题三：删除重复行 ---\n",
    "\n",
    "print(\"处理前的数据形状:\", df_cleaned.shape)\n",
    "\n",
    "# 计算有多少重复行\n",
    "duplicate_count = df_cleaned.duplicated().sum()\n",
    "print(f\"发现 {duplicate_count} 条重复行。\")\n",
    "\n",
    "# 删除重复行\n",
    "# keep='first' 表示保留第一次出现的记录，删除后面的重复项\n",
    "df_cleaned.drop_duplicates(inplace=True, keep='first')\n",
    "\n",
    "print(\"处理后的数据形状:\", df_cleaned.shape)\n",
    "print(\"\\n成功删除所有重复行。\")"
   ]
  },
  {
   "cell_type": "code",
   "execution_count": 24,
   "metadata": {},
   "outputs": [
    {
     "name": "stdout",
     "output_type": "stream",
     "text": [
      "处理前 'Attack' 属性的统计信息:\n",
      "count     800.000000\n",
      "mean       81.095000\n",
      "std        53.245327\n",
      "min         5.000000\n",
      "25%        55.000000\n",
      "50%        75.000000\n",
      "75%       100.000000\n",
      "max      1000.000000\n",
      "Name: Attack, dtype: float64\n",
      "\n",
      "拥有最高 Attack 值的宝可梦:\n",
      " #                128\n",
      "Name          Tauros\n",
      "Type 1        Normal\n",
      "Type 2           NaN\n",
      "Total            490\n",
      "HP                75\n",
      "Attack          1000\n",
      "Defense           95\n",
      "Sp. Atk           40\n",
      "Sp. Def           70\n",
      "Speed            110\n",
      "Generation         1\n",
      "Legendary      FALSE\n",
      "Name: 140, dtype: object\n",
      "\n",
      "'Attack' 的99%分位数值为: 170.0\n",
      "\n",
      "处理后的 'Attack' 属性最大值: 170.0\n",
      "成功将过高的 Attack 值修正。\n"
     ]
    }
   ],
   "source": [
    "# --- 问题四：处理 Attack 异常值 ---\n",
    "\n",
    "# **【修正】** 在计算前，必须将'Attack'列转换为数值类型\n",
    "#  我们使用 pd.to_numeric，errors='coerce' 会将无法转换的值设为缺失值(NaN)\n",
    "df_cleaned['Attack'] = pd.to_numeric(df_cleaned['Attack'], errors='coerce')\n",
    "\n",
    "# （可选步骤）如果存在因转换失败而产生的NaN，可以用中位数等填充\n",
    "# df_cleaned['Attack'].fillna(df_cleaned['Attack'].median(), inplace=True)\n",
    "\n",
    "# --- 现在，您原来的代码就可以正常运行了 ---\n",
    "\n",
    "# 首先，查看Attack属性的描述性统计和最大值\n",
    "print(\"处理前 'Attack' 属性的统计信息:\")\n",
    "print(df_cleaned['Attack'].describe())\n",
    "\n",
    "# 找到最大值对应的宝可梦\n",
    "max_attack_pokemon = df_cleaned.loc[df_cleaned['Attack'].idxmax()]\n",
    "print(\"\\n拥有最高 Attack 值的宝可梦:\\n\", max_attack_pokemon)\n",
    "\n",
    "# 一种常见的处理方法是用该列的99%分位数来替换极端最大值\n",
    "# 这样既修正了异常，又保留了数据的高端分布\n",
    "ninety_ninth_percentile = df_cleaned['Attack'].quantile(0.99)\n",
    "print(f\"\\n'Attack' 的99%分位数值为: {ninety_ninth_percentile}\")\n",
    "\n",
    "# 将所有超过这个值的 Attack 都设置为99%分位数的值\n",
    "df_cleaned.loc[df_cleaned['Attack'] > ninety_ninth_percentile, 'Attack'] = ninety_ninth_percentile\n",
    "\n",
    "print(\"\\n处理后的 'Attack' 属性最大值:\", df_cleaned['Attack'].max())\n",
    "print(\"成功将过高的 Attack 值修正。\")"
   ]
  },
  {
   "cell_type": "code",
   "execution_count": 25,
   "metadata": {},
   "outputs": [
    {
     "name": "stdout",
     "output_type": "stream",
     "text": [
      "找到 6 条可能被置换的数据。\n",
      "\n",
      "置换前的数据:\n",
      "                 Name Generation  Legendary\n",
      "11          Blastoise      FALSE          1\n",
      "32            Pikachu      FALSE          0\n",
      "39   Nidoranâ?Poison      FALSE        NaN\n",
      "408               NaN        NaN        NaN\n",
      "771         Heliolisk  undefined      FALSE\n",
      "806         undefined  undefined  undefined\n",
      "\n",
      "置换后的数据:\n",
      "                          Name Generation  Legendary\n",
      "0                    Bulbasaur          1      FALSE\n",
      "1                      Ivysaur          1      FALSE\n",
      "2                     Venusaur          1      FALSE\n",
      "3        VenusaurMega Venusaur          1      FALSE\n",
      "4                   Charmander          1      FALSE\n",
      "5                   Charmeleon          1      FALSE\n",
      "6                    Charizard          1      FALSE\n",
      "7    CharizardMega Charizard X          1      FALSE\n",
      "8    CharizardMega Charizard Y          1      FALSE\n",
      "9                     Squirtle          1      FALSE\n",
      "10                   Wartortle          1      FALSE\n",
      "11                   Blastoise          1      FALSE\n",
      "12     BlastoiseMega Blastoise          1      FALSE\n",
      "13                    Caterpie          1      FALSE\n",
      "14                     Metapod          1      FALSE\n",
      "16                  Butterfree          1      FALSE\n",
      "17                      Weedle          1      FALSE\n",
      "18                      Kakuna          1      FALSE\n",
      "19                    Beedrill          1      FALSE\n",
      "20       BeedrillMega Beedrill          1      FALSE\n",
      "21                   Pidgeotto          1      FALSE\n",
      "22                      Pidgey          1      FALSE\n",
      "24                     Pidgeot          1      FALSE\n",
      "25         PidgeotMega Pidgeot          1      FALSE\n",
      "26                     Rattata          1      FALSE\n",
      "27                    Raticate          1      FALSE\n",
      "28                     Spearow          1      FALSE\n",
      "29                      Fearow          1      FALSE\n",
      "30                       Ekans          1      FALSE\n",
      "31                       Arbok          1      FALSE\n",
      "..                         ...        ...        ...\n",
      "777                   Hawlucha          6      FALSE\n",
      "778                    Dedenne          6      FALSE\n",
      "779                    Carbink          6      FALSE\n",
      "780                      Goomy          6      FALSE\n",
      "781                    Sliggoo          6      FALSE\n",
      "782                     Goodra          6      FALSE\n",
      "783                     Klefki          6      FALSE\n",
      "784                   Phantump          6      FALSE\n",
      "785                  Trevenant          6      FALSE\n",
      "786      PumpkabooAverage Size          6      FALSE\n",
      "787        PumpkabooSmall Size          6      FALSE\n",
      "788        PumpkabooLarge Size          6      FALSE\n",
      "789        PumpkabooSuper Size          6      FALSE\n",
      "790      GourgeistAverage Size          6      FALSE\n",
      "791        GourgeistSmall Size          6      FALSE\n",
      "792        GourgeistLarge Size          6      FALSE\n",
      "793        GourgeistSuper Size          6      FALSE\n",
      "794                   Bergmite          6      FALSE\n",
      "795                    Avalugg          6      FALSE\n",
      "796                     Noibat          6      FALSE\n",
      "797                    Noivern          6      FALSE\n",
      "798                    Xerneas          6       TRUE\n",
      "799                    Yveltal          6       TRUE\n",
      "800           Zygarde50% Forme          6       TRUE\n",
      "801                    Diancie          6       TRUE\n",
      "802        DiancieMega Diancie          6       TRUE\n",
      "803        HoopaHoopa Confined          6       TRUE\n",
      "804         HoopaHoopa Unbound          6       TRUE\n",
      "805                  Volcanion          6       TRUE\n",
      "806                  undefined  undefined  undefined\n",
      "\n",
      "[802 rows x 3 columns]\n",
      "\n",
      "成功修正 Generation 和 Legendary 的数据。\n"
     ]
    }
   ],
   "source": [
    "# --- 问题五：修正 Generation 和 Legendary 置换 ---\n",
    "\n",
    "# 正常情况下，'Generation' 应该是数字，'Legendary' 应该是布尔值 (True/False)\n",
    "# 我们需要找到 'Generation' 列的值是布尔值的行\n",
    "# Series.apply(type) is slow, a better way is to check the type of the first element\n",
    "# However, for simplicity and clarity in finding mixed types, we can do this:\n",
    "try:\n",
    "    # 尝试将 'Generation' 列转换为数字，无法转换的将变成 NaT/NaN\n",
    "    gen_as_numeric = pd.to_numeric(df_cleaned['Generation'], errors='coerce')\n",
    "    # 找到那些原本不是数字的行\n",
    "    swapped_rows_mask = gen_as_numeric.isna()\n",
    "    \n",
    "    print(f\"找到 {swapped_rows_mask.sum()} 条可能被置换的数据。\")\n",
    "\n",
    "    if swapped_rows_mask.sum() > 0:\n",
    "        print(\"\\n置换前的数据:\")\n",
    "        print(df_cleaned[swapped_rows_mask][['Name', 'Generation', 'Legendary']])\n",
    "\n",
    "        # 对找到的行进行数据交换\n",
    "        for index in df_cleaned[swapped_rows_mask].index:\n",
    "            # 使用临时变量保存原始值\n",
    "            original_gen = df_cleaned.loc[index, 'Generation']\n",
    "            original_leg = df_cleaned.loc[index, 'Legendary']\n",
    "            \n",
    "            # 执行交换\n",
    "            df_cleaned.loc[index, 'Generation'] = original_leg\n",
    "            df_cleaned.loc[index, 'Legendary'] = original_gen\n",
    "\n",
    "        print(\"\\n置换后的数据:\")\n",
    "        print(df_cleaned.loc[swapped_rows_mask.index][['Name', 'Generation', 'Legendary']])\n",
    "        print(\"\\n成功修正 Generation 和 Legendary 的数据。\")\n",
    "    else:\n",
    "        print(\"未发现需要修正的 Generation 和 Legendary 数据。\")\n",
    "\n",
    "except Exception as e:\n",
    "    print(f\"处理时发生错误: {e}\")"
   ]
  },
  {
   "cell_type": "code",
   "execution_count": 32,
   "metadata": {},
   "outputs": [
    {
     "name": "stdout",
     "output_type": "stream",
     "text": [
      "已保存： D:\\Pokemon_clean.csv\n"
     ]
    }
   ],
   "source": [
    "out_path = \"D:\\Pokemon_clean.csv\"\n",
    "df.to_csv(out_path, index=False, encoding=\"utf-8\")\n",
    "print(\"已保存：\", out_path)"
   ]
  },
  {
   "cell_type": "code",
   "execution_count": null,
   "metadata": {},
   "outputs": [],
   "source": []
  }
 ],
 "metadata": {
  "kernelspec": {
   "display_name": "Python 3",
   "language": "python",
   "name": "python3"
  },
  "language_info": {
   "codemirror_mode": {
    "name": "ipython",
    "version": 3
   },
   "file_extension": ".py",
   "mimetype": "text/x-python",
   "name": "python",
   "nbconvert_exporter": "python",
   "pygments_lexer": "ipython3",
   "version": "3.7.0"
  }
 },
 "nbformat": 4,
 "nbformat_minor": 2
}
