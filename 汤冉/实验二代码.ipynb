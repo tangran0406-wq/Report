{
 "cells": [
  {
   "cell_type": "code",
   "execution_count": 33,
   "id": "6ac561e5",
   "metadata": {},
   "outputs": [
    {
     "data": {
      "text/plain": [
       "((808, 13),\n",
       "      #                   Name Type 1  Type 2  Total    HP  Attack  Defense  \\\n",
       " 0  1.0              Bulbasaur  Grass  Poison  318.0  45.0    49.0     49.0   \n",
       " 1  2.0                Ivysaur  Grass  Poison  405.0  60.0    62.0     63.0   \n",
       " 2  3.0               Venusaur  Grass  Poison  525.0  80.0    82.0     83.0   \n",
       " 3  3.0  VenusaurMega Venusaur  Grass  Poison  625.0  80.0   100.0    123.0   \n",
       " 4  4.0             Charmander   Fire     NaN  309.0  39.0    52.0     43.0   \n",
       " \n",
       "    Sp. Atk  Sp. Def  Speed Generation Legendary  \n",
       " 0     65.0     65.0   45.0          1     FALSE  \n",
       " 1     80.0     80.0   60.0          1     FALSE  \n",
       " 2    100.0    100.0   80.0          1     FALSE  \n",
       " 3    122.0    120.0   80.0          1     FALSE  \n",
       " 4     60.0     50.0   65.0          1     FALSE  )"
      ]
     },
     "execution_count": 33,
     "metadata": {},
     "output_type": "execute_result"
    }
   ],
   "source": [
    "import pandas as pd\n",
    "import numpy as np\n",
    "\n",
    "# 读入数据（任选一种方式：本地 or 在线）\n",
    "path = r\"D:\\Pokemon.csv\"                 # 如果你已下载到本地，改成你的路径\n",
    "\n",
    "df = pd.read_csv(path, encoding=\"latin1\", sep=None, engine=\"python\")\n",
    "\n",
    "\n",
    "# 规范列名（不同来源可能大小写/空格不同，这里做个兼容）\n",
    "def pick(df, candidates):\n",
    "    for c in candidates:\n",
    "        if c in df.columns: return c\n",
    "    raise KeyError(f\"列不存在：{candidates}\")\n",
    "\n",
    "COL_T1  = pick(df, [\"Type 1\",\"type1\",\"Type1\"])\n",
    "COL_T2  = pick(df, [\"Type 2\",\"type2\",\"Type2\"])\n",
    "COL_ATK = pick(df, [\"Attack\",\"attack\",\"ATK\"])\n",
    "COL_GEN = pick(df, [\"Generation\",\"generation\",\"Gen\"])\n",
    "COL_LEG = pick(df, [\"Legendary\",\"legendary\",\"isLegendary\"])\n",
    "\n",
    "df.shape, df.head()\n"
   ]
  },
  {
   "cell_type": "markdown",
   "id": "3f114d9c",
   "metadata": {},
   "source": []
  },
  {
   "cell_type": "code",
   "execution_count": 34,
   "id": "bc456e0a",
   "metadata": {},
   "outputs": [
    {
     "name": "stdout",
     "output_type": "stream",
     "text": [
      "Rows: 808 -> 806\n"
     ]
    }
   ],
   "source": [
    "before = len(df)\n",
    "if before >= 2:\n",
    "    df = df.iloc[:-2].copy()   # 只保留到倒数第3行\n",
    "else:\n",
    "    df = df.iloc[0:0].copy()   # 不足2行时结果设为空表\n",
    "print(f\"Rows: {before} -> {len(df)}\")\n"
   ]
  },
  {
   "cell_type": "code",
   "execution_count": 35,
   "id": "71acf850",
   "metadata": {},
   "outputs": [
    {
     "name": "stdout",
     "output_type": "stream",
     "text": [
      "【原样口径：全部取值与频数】\n",
      "Type 2\n",
      "[Missing]    384\n",
      "Flying        98\n",
      "Poison        37\n",
      "Ground        35\n",
      "Psychic       33\n",
      "Fighting      26\n",
      "Grass         25\n",
      "Fairy         23\n",
      "Steel         22\n",
      "Dark          20\n",
      "Dragon        18\n",
      "Ghost         14\n",
      "Water         14\n",
      "Rock          14\n",
      "Ice           14\n",
      "Fire          12\n",
      "Electric       6\n",
      "Normal         4\n",
      "Bug            3\n",
      "273            1\n",
      "0              1\n",
      "A              1\n",
      "BBB            1\n",
      "Name: count, dtype: int64\n",
      "\n",
      "【原样口径：非常见取值（包含只出现 1 次者）】\n",
      "Type 2\n",
      "0      1\n",
      "273    1\n",
      "A      1\n",
      "BBB    1\n",
      "Name: count, dtype: int64\n",
      "\n",
      "【原样口径：出现仅 1 次的取值】\n",
      "Type 2\n",
      "273    1\n",
      "0      1\n",
      "A      1\n",
      "BBB    1\n",
      "Name: count, dtype: int64\n"
     ]
    }
   ],
   "source": [
    "import pandas as pd\n",
    "\n",
    "# 原列\n",
    "t2_raw = df[COL_T2]\n",
    "\n",
    "# 统一为字符串便于统计；缺失标成 [Missing]，纯空白标成 [Blank]\n",
    "raw_labels = (\n",
    "    t2_raw.astype(object)  # 保留 None/NaN\n",
    "          .where(~t2_raw.isna(), '[Missing]')\n",
    "          .astype(str).str.strip()\n",
    "          .replace({'': '[Blank]'})\n",
    ")\n",
    "\n",
    "print(\"【原样口径：全部取值与频数】\")\n",
    "vc_raw = raw_labels.value_counts(dropna=False)\n",
    "print(vc_raw)\n",
    "\n",
    "# 仅看“非常见/疑似异常”的：排除合法全集与 [Missing]/[Blank]，其余全部列出\n",
    "valid_types = {\n",
    "    'Bug','Dark','Dragon','Electric','Fairy','Fighting','Fire','Flying','Ghost',\n",
    "    'Grass','Ground','Ice','Normal','Poison','Psychic','Rock','Steel','Water'\n",
    "}\n",
    "mask_suspect_raw = ~raw_labels.isin(valid_types | {'[Missing]','[Blank]'})\n",
    "suspect_counts_raw = raw_labels[mask_suspect_raw].value_counts()\n",
    "\n",
    "print(\"\\n【原样口径：非常见取值（包含只出现 1 次者）】\")\n",
    "print(suspect_counts_raw if not suspect_counts_raw.empty else \"（无）\")\n",
    "\n",
    "# 如果你想只看“只出现 1 次”的值（包括合法与非法）\n",
    "singletons = raw_labels.value_counts()\n",
    "singletons = singletons[singletons == 1]\n",
    "print(\"\\n【原样口径：出现仅 1 次的取值】\")\n",
    "print(singletons if not singletons.empty else \"（无）\")\n"
   ]
  },
  {
   "cell_type": "code",
   "execution_count": 36,
   "id": "866a170f",
   "metadata": {},
   "outputs": [
    {
     "name": "stdout",
     "output_type": "stream",
     "text": [
      "命中需要去除的条数： 4\n",
      "命中的原值示例： ['0', '273', 'A', 'BBB']\n"
     ]
    }
   ],
   "source": [
    "import numpy as np\n",
    "import unicodedata\n",
    "\n",
    "# 列名\n",
    "# COL_T2 = 'Type 2'\n",
    "\n",
    "def norm_casefold(x: object) -> str | None:\n",
    "    \"\"\"只用于匹配：全角->半角，去首尾空白，大小写无关（casefold）。\"\"\"\n",
    "    if x is None or (isinstance(x, float) and np.isnan(x)):\n",
    "        return None\n",
    "    s = unicodedata.normalize('NFKC', str(x)).strip()\n",
    "    return s.casefold() if s != \"\" else \"\"   # 空白保留为 \"\"，后面不会当异常\n",
    "\n",
    "# 需要去除（置 NaN）的取值集合（统一到 casefold 口径）\n",
    "ban_set = { '0', '273', 'a', 'bbb' }\n",
    "\n",
    "# 构造掩码：非缺失、非空白，且规范化后命中 ban_set\n",
    "t2_norm = df[COL_T2].map(norm_casefold)\n",
    "mask_ban = t2_norm.notna() & (t2_norm != \"\") & t2_norm.isin(ban_set)\n",
    "\n",
    "print(\"命中需要去除的条数：\", int(mask_ban.sum()))\n",
    "print(\"命中的原值示例：\", df.loc[mask_ban, COL_T2].head(10).tolist())\n",
    "\n",
    "# 去除：置为 NaN（如果你想直接删整行，见下面“可选”）\n",
    "df.loc[mask_ban, COL_T2] = np.nan\n"
   ]
  },
  {
   "cell_type": "code",
   "execution_count": 37,
   "id": "af03c350",
   "metadata": {},
   "outputs": [
    {
     "name": "stdout",
     "output_type": "stream",
     "text": [
      "去重条数：5；\n",
      "\n",
      ">>> 重复的行（包含所有重复出现）:\n",
      "         #       Name  Type 1  Type 2  Total    HP  Attack  Defense  Sp. Atk  \\\n",
      "14    11.0    Metapod     Bug     NaN  205.0  50.0    20.0     55.0     25.0   \n",
      "15    11.0    Metapod     Bug     NaN  205.0  50.0    20.0     55.0     25.0   \n",
      "21    17.0  Pidgeotto  Normal  Flying  349.0  63.0    60.0     55.0     50.0   \n",
      "23    17.0  Pidgeotto  Normal  Flying  349.0  63.0    60.0     55.0     50.0   \n",
      "184  168.0    Ariados     Bug  Poison  390.0  70.0    90.0     70.0     60.0   \n",
      "185  168.0    Ariados     Bug  Poison  390.0  70.0    90.0     70.0     60.0   \n",
      "186  168.0    Ariados     Bug  Poison  390.0  70.0    90.0     70.0     60.0   \n",
      "187  168.0    Ariados     Bug  Poison  390.0  70.0    90.0     70.0     60.0   \n",
      "\n",
      "     Sp. Def  Speed Generation Legendary  \n",
      "14      25.0   30.0          1     FALSE  \n",
      "15      25.0   30.0          1     FALSE  \n",
      "21      50.0   71.0          1     FALSE  \n",
      "23      50.0   71.0          1     FALSE  \n",
      "184     60.0   40.0          2     FALSE  \n",
      "185     60.0   40.0          2     FALSE  \n",
      "186     60.0   40.0          2     FALSE  \n",
      "187     60.0   40.0          2     FALSE  \n",
      "\n",
      ">>> 重复的行（每组只保留一次）:\n",
      "         #       Name  Type 1  Type 2  Total    HP  Attack  Defense  Sp. Atk  \\\n",
      "14    11.0    Metapod     Bug     NaN  205.0  50.0    20.0     55.0     25.0   \n",
      "21    17.0  Pidgeotto  Normal  Flying  349.0  63.0    60.0     55.0     50.0   \n",
      "184  168.0    Ariados     Bug  Poison  390.0  70.0    90.0     70.0     60.0   \n",
      "\n",
      "     Sp. Def  Speed Generation Legendary  \n",
      "14      25.0   30.0          1     FALSE  \n",
      "21      50.0   71.0          1     FALSE  \n",
      "184     60.0   40.0          2     FALSE  \n"
     ]
    }
   ],
   "source": [
    "# 统计重复行数\n",
    "dup_count = df.duplicated().sum()\n",
    "\n",
    "# 列出所有重复的行（包含第一次出现的）\n",
    "dups_all = df[df.duplicated(keep=False)]\n",
    "\n",
    "# 如果只想看“重复部分的值”，可以用 drop_duplicates() 去重\n",
    "dups_unique = dups_all.drop_duplicates()\n",
    "\n",
    "print(f\"去重条数：{dup_count}；\")\n",
    "print(\"\\n>>> 重复的行（包含所有重复出现）:\")\n",
    "print(dups_all)\n",
    "\n",
    "print(\"\\n>>> 重复的行（每组只保留一次）:\")\n",
    "print(dups_unique)\n",
    "\n",
    "# 去重后再赋值\n",
    "df = df.drop_duplicates()\n"
   ]
  },
  {
   "cell_type": "code",
   "execution_count": 38,
   "id": "10b37ab0",
   "metadata": {},
   "outputs": [
    {
     "name": "stdout",
     "output_type": "stream",
     "text": [
      "[INFO] Attack 可用数值：800，无法解析：1\n",
      "[CLEAN] Attack 高端截断 9 行；阈值上限 = 167.50\n"
     ]
    },
    {
     "data": {
      "text/plain": [
       "count    800.000000\n",
       "mean      79.110625\n",
       "std       32.445670\n",
       "min        5.000000\n",
       "25%       55.000000\n",
       "50%       75.000000\n",
       "75%      100.000000\n",
       "max      167.500000\n",
       "Name: Attack, dtype: float64"
      ]
     },
     "metadata": {},
     "output_type": "display_data"
    }
   ],
   "source": [
    "# —— 将 Attack 列转成数值并做“高端温莎化”截断 ——\n",
    "import numpy as np\n",
    "\n",
    "# 1) 字符清洗 → 数值\n",
    "s_raw = df[COL_ATK].astype(str).str.strip()\n",
    "s_clean = (\n",
    "    s_raw.str.replace(',', '', regex=False)        # 去掉千分位逗号，如 \"1,234\"\n",
    "         .replace({'': np.nan, 'NA': np.nan, 'N/A': np.nan,\n",
    "                   '-': np.nan, '--': np.nan, '—': np.nan})\n",
    ")\n",
    "atk_num = pd.to_numeric(s_clean, errors='coerce')  # 无法解析的变为 NaN\n",
    "\n",
    "# 可选：看看有多少无法解析\n",
    "coerced_cnt = ((atk_num.isna()) & (s_clean.notna())).sum()    \n",
    "print(f\"[INFO] Attack 可用数值：{atk_num.notna().sum()}，无法解析：{coerced_cnt}\")\n",
    "\n",
    "# 回写为数值列\n",
    "df[COL_ATK] = atk_num\n",
    "\n",
    "# 2) 若没有数值就直接跳过\n",
    "ser = df[COL_ATK].dropna()\n",
    "if ser.empty:\n",
    "    print(\"[WARN] Attack 列没有可用数值，跳过 IQR 处理\")\n",
    "else:\n",
    "    # 3) IQR 上端阈值（只截高端，符合“过高异常值”的要求）\n",
    "    q1, q3 = ser.quantile([0.25, 0.75]).values\n",
    "    iqr = q3 - q1\n",
    "    upper = q3 + 1.5 * iqr\n",
    "\n",
    "    mask_hi = df[COL_ATK] > upper\n",
    "    n_hi = int(mask_hi.sum())\n",
    "    df.loc[mask_hi, COL_ATK] = upper\n",
    "\n",
    "    print(f\"[CLEAN] Attack 高端截断 {n_hi} 行；阈值上限 = {upper:.2f}\")\n",
    "    display(df[COL_ATK].describe())\n"
   ]
  },
  {
   "cell_type": "code",
   "execution_count": 39,
   "id": "13165ccc",
   "metadata": {},
   "outputs": [
    {
     "name": "stdout",
     "output_type": "stream",
     "text": [
      "检测到置换行数： 2\n"
     ]
    },
    {
     "data": {
      "text/html": [
       "<div>\n",
       "<style scoped>\n",
       "    .dataframe tbody tr th:only-of-type {\n",
       "        vertical-align: middle;\n",
       "    }\n",
       "\n",
       "    .dataframe tbody tr th {\n",
       "        vertical-align: top;\n",
       "    }\n",
       "\n",
       "    .dataframe thead th {\n",
       "        text-align: right;\n",
       "    }\n",
       "</style>\n",
       "<table border=\"1\" class=\"dataframe\">\n",
       "  <thead>\n",
       "    <tr style=\"text-align: right;\">\n",
       "      <th></th>\n",
       "      <th>Generation</th>\n",
       "      <th>Legendary</th>\n",
       "    </tr>\n",
       "  </thead>\n",
       "  <tbody>\n",
       "    <tr>\n",
       "      <th>0</th>\n",
       "      <td>1</td>\n",
       "      <td>False</td>\n",
       "    </tr>\n",
       "    <tr>\n",
       "      <th>1</th>\n",
       "      <td>1</td>\n",
       "      <td>False</td>\n",
       "    </tr>\n",
       "    <tr>\n",
       "      <th>2</th>\n",
       "      <td>1</td>\n",
       "      <td>False</td>\n",
       "    </tr>\n",
       "    <tr>\n",
       "      <th>3</th>\n",
       "      <td>1</td>\n",
       "      <td>False</td>\n",
       "    </tr>\n",
       "    <tr>\n",
       "      <th>4</th>\n",
       "      <td>1</td>\n",
       "      <td>False</td>\n",
       "    </tr>\n",
       "    <tr>\n",
       "      <th>5</th>\n",
       "      <td>1</td>\n",
       "      <td>False</td>\n",
       "    </tr>\n",
       "    <tr>\n",
       "      <th>6</th>\n",
       "      <td>1</td>\n",
       "      <td>False</td>\n",
       "    </tr>\n",
       "    <tr>\n",
       "      <th>7</th>\n",
       "      <td>1</td>\n",
       "      <td>False</td>\n",
       "    </tr>\n",
       "    <tr>\n",
       "      <th>8</th>\n",
       "      <td>1</td>\n",
       "      <td>False</td>\n",
       "    </tr>\n",
       "    <tr>\n",
       "      <th>9</th>\n",
       "      <td>1</td>\n",
       "      <td>False</td>\n",
       "    </tr>\n",
       "  </tbody>\n",
       "</table>\n",
       "</div>"
      ],
      "text/plain": [
       "   Generation Legendary\n",
       "0           1     False\n",
       "1           1     False\n",
       "2           1     False\n",
       "3           1     False\n",
       "4           1     False\n",
       "5           1     False\n",
       "6           1     False\n",
       "7           1     False\n",
       "8           1     False\n",
       "9           1     False"
      ]
     },
     "execution_count": 39,
     "metadata": {},
     "output_type": "execute_result"
    }
   ],
   "source": [
    "gen_boollike = df[COL_GEN].astype(str).str.strip().str.lower().isin([\"true\",\"false\"])\n",
    "leg_numeric  = pd.to_numeric(df[COL_LEG], errors=\"coerce\").notna()\n",
    "swap_idx = gen_boollike & leg_numeric\n",
    "print(\"检测到置换行数：\", int(swap_idx.sum()))\n",
    "\n",
    "if swap_idx.any():\n",
    "    df.loc[swap_idx, [COL_GEN, COL_LEG]] = df.loc[swap_idx, [COL_LEG, COL_GEN]].values\n",
    "\n",
    "df[COL_GEN] = pd.to_numeric(df[COL_GEN], errors=\"coerce\").astype(\"Int64\")\n",
    "df[COL_LEG] = df[COL_LEG].astype(str).str.strip().str.lower().map({\"true\": True, \"false\": False})\n",
    "df[[COL_GEN, COL_LEG]].head(10)\n"
   ]
  },
  {
   "cell_type": "code",
   "execution_count": 40,
   "id": "4bc524e8",
   "metadata": {},
   "outputs": [
    {
     "name": "stdout",
     "output_type": "stream",
     "text": [
      "已保存： Pokemon_clean_utf8.csv\n"
     ]
    }
   ],
   "source": [
    "out_path = \"Pokemon_clean_utf8.csv\"\n",
    "df.to_csv(out_path, index=False, encoding=\"utf-8\")\n",
    "print(\"已保存：\", out_path)\n"
   ]
  }
 ],
 "metadata": {
  "kernelspec": {
   "display_name": "Python 3",
   "language": "python",
   "name": "python3"
  },
  "language_info": {
   "codemirror_mode": {
    "name": "ipython",
    "version": 3
   },
   "file_extension": ".py",
   "mimetype": "text/x-python",
   "name": "python",
   "nbconvert_exporter": "python",
   "pygments_lexer": "ipython3",
   "version": "3.13.3"
  }
 },
 "nbformat": 4,
 "nbformat_minor": 5
}
